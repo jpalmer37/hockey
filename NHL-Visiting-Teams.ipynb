{
 "cells": [
  {
   "cell_type": "markdown",
   "metadata": {
    "papermill": {
     "duration": 0.013412,
     "end_time": "2021-03-06T06:44:17.677347",
     "exception": false,
     "start_time": "2021-03-06T06:44:17.663935",
     "status": "completed"
    },
    "tags": []
   },
   "source": [
    "# NHL Visiting Teams Analysis \n",
    "\n",
    "### By: John Palmer\n",
    "\n",
    "Hi there. This is my first notebook on Kaggle that I'm using to practice ML techniques. I've grown up watching and playing hockey and figured this NHL data set would be a nice starting point. In this notebook, I create a model using XGBClassifier to predict whether the visiting hockey team will win their game. Still new to this, and definitely welcome to feedback. \n",
    "\n",
    "As always, need to import the necessary tools first.   "
   ]
  },
  {
   "cell_type": "code",
   "execution_count": 1,
   "metadata": {
    "_cell_guid": "b1076dfc-b9ad-4769-8c92-a6c4dae69d19",
    "_uuid": "8f2839f25d086af736a60e9eeb907d3b93b6e0e5",
    "papermill": {
     "duration": 1.237631,
     "end_time": "2021-03-06T06:44:18.925474",
     "exception": false,
     "start_time": "2021-03-06T06:44:17.687843",
     "status": "completed"
    },
    "tags": []
   },
   "outputs": [],
   "source": [
    "import matplotlib\n",
    "import matplotlib.pyplot as plt \n",
    "import pandas as pd \n",
    "import numpy as np\n",
    "import seaborn as sns\n",
    "import sklearn as sk \n",
    "import random as rd\n",
    "import re \n",
    "from xgboost import XGBClassifier\n",
    "\n",
    "from sklearn.model_selection import train_test_split, cross_val_score, GridSearchCV\n",
    "from sklearn.pipeline import Pipeline\n",
    "from sklearn.linear_model import LinearRegression, LogisticRegression\n",
    "from sklearn.preprocessing import StandardScaler, PolynomialFeatures, OneHotEncoder, LabelEncoder\n",
    "from sklearn.compose import ColumnTransformer\n",
    "from sklearn.ensemble import RandomForestClassifier \n",
    "from sklearn.metrics import confusion_matrix, roc_curve, precision_recall_curve, auc, plot_roc_curve, accuracy_score, roc_auc_score\n",
    "from sklearn.impute import KNNImputer\n",
    "\n",
    "%matplotlib inline"
   ]
  },
  {
   "cell_type": "markdown",
   "metadata": {},
   "source": [
    "First, I will read in both datasets I will be using for the analysis. Specifically, the `team_data` dataset contains outcomes for both home and away teams. I figured that since these results are paired, \n",
    "this might cause an inflation of model performance if left in this format. Therefore, I will remove all the home team fields from the dataset, and add back some of their fields as additional columns (matching them to their corresponding row entry)."
   ]
  },
  {
   "cell_type": "code",
   "execution_count": 2,
   "metadata": {},
   "outputs": [],
   "source": [
    "game_data = pd.read_csv(\"../input/nhl-game-data/game.csv\", index_col=0)\n",
    "team_data = pd.read_csv(\"../input/nhl-game-data/game_teams_stats.csv\", index_col=0)\n",
    "team_metadata = pd.read_csv(\"../input/nhl-game-data/team_info.csv\", index_col=0)\n",
    "\n",
    "# drop unnecessary columns\n",
    "team_data = team_data.drop(['head_coach','goals', \"team_id\", \"powerPlayGoals\",\"startRinkSide\"], axis=1)\n",
    "team_data.sort_index(axis=0, inplace=True)\n",
    "\n",
    "# Separate the home and away teams to prevent use of overlapping data\n",
    "hmask = team_data.HoA == \"home\"\n",
    "home_data = team_data[hmask]\n",
    "away_data = team_data[~hmask]\n",
    "\n",
    "# Edit home and away datasets\n",
    "home_data = home_data.drop([\"won\", \"settled_in\", \"faceOffWinPercentage\"], axis=1)\n",
    "home_data = home_data.add_prefix(\"home_\")\n",
    "away_data = away_data.add_prefix(\"away_\")\n",
    "\n",
    "# Add specific home features to the away dataset\n",
    "team_data = pd.concat([away_data, home_data], axis=1)"
   ]
  },
  {
   "cell_type": "markdown",
   "metadata": {},
   "source": [
    "Next, I will address missing, duplicated, or problematic entries. "
   ]
  },
  {
   "cell_type": "code",
   "execution_count": 3,
   "metadata": {},
   "outputs": [
    {
     "name": "stdout",
     "output_type": "stream",
     "text": [
      "Duplicated entries: 2565\n",
      "\n",
      "            away_won away_settled_in  away_shots  away_hits  away_pim  \\\n",
      "game_id                                                                 \n",
      "2002020801     False              OT        27.0       21.0      15.0   \n",
      "2002020804     False             REG        20.0       10.0      10.0   \n",
      "2002020811     False             REG        27.0        2.0      10.0   \n",
      "2002020817     False             REG        17.0       29.0      14.0   \n",
      "2002020821     False             REG        21.0        4.0       8.0   \n",
      "\n",
      "            away_powerPlayOpportunities  away_faceOffWinPercentage  \\\n",
      "game_id                                                              \n",
      "2002020801                          5.0                  48.412205   \n",
      "2002020804                          2.0                  48.412205   \n",
      "2002020811                          7.0                  48.412205   \n",
      "2002020817                          4.0                  48.412205   \n",
      "2002020821                          2.0                  48.412205   \n",
      "\n",
      "            away_giveaways  away_takeaways  away_blocked  home_shots  \\\n",
      "game_id                                                                \n",
      "2002020801            17.0             2.0          10.0        25.0   \n",
      "2002020804             9.0             7.0           9.0        24.0   \n",
      "2002020811             7.0             7.0          11.0        19.0   \n",
      "2002020817            14.0             1.0          14.0        26.0   \n",
      "2002020821             8.0             7.0          17.0        31.0   \n",
      "\n",
      "            home_hits  home_pim  home_powerPlayOpportunities  home_giveaways  \\\n",
      "game_id                                                                        \n",
      "2002020801       23.0      19.0                          4.0            11.0   \n",
      "2002020804       11.0       4.0                          5.0            23.0   \n",
      "2002020811       11.0      14.0                          5.0             9.0   \n",
      "2002020817       22.0       8.0                          7.0             8.0   \n",
      "2002020821       11.0       6.0                          3.0             8.0   \n",
      "\n",
      "            home_takeaways  home_blocked  \n",
      "game_id                                   \n",
      "2002020801             2.0          14.0  \n",
      "2002020804             5.0          13.0  \n",
      "2002020811             3.0          17.0  \n",
      "2002020817             5.0           7.0  \n",
      "2002020821            17.0          15.0  \n",
      "(20436, 17)\n"
     ]
    }
   ],
   "source": [
    "# Remove missing entries with missing hits (easiest choice because of strong overlap with other NAs; i.e. giveaways, takeaways, blocked)\n",
    "team_data = team_data[~team_data.away_hits.isnull()]\n",
    "\n",
    "# KNN Imputation to address missing \"faceOffWinPercentage\" values\n",
    "imputer = KNNImputer()\n",
    "team_data.away_faceOffWinPercentage = imputer.fit_transform(np.array(team_data.away_faceOffWinPercentage).reshape(-1,1))\n",
    "\n",
    "\n",
    "# Remove uninformative values in \"settled_in\"\n",
    "team_data = team_data[~(team_data.away_settled_in == \"tbc\")]\n",
    "\n",
    "# I found that there are a collection of games in the early 2000s where it seems that these 6 measures were not being recorded\n",
    "# Therefore, I opt to remove any entries where all six of these features are 0 \n",
    "toRemove = ((team_data.away_giveaways== 0) & (team_data.away_takeaways == 0) \n",
    "          & (team_data.away_blocked == 0) & (team_data.home_giveaways == 0) \n",
    "          & (team_data.home_takeaways == 0) & (team_data.home_blocked == 0))\n",
    "team_data = team_data[~toRemove]\n",
    "\n",
    "# Remove duplicated entries \n",
    "print(\"Duplicated entries: {}\\n\".format(sum(team_data.index.duplicated())))\n",
    "team_data = team_data[~team_data.index.duplicated()]\n",
    "\n",
    "# Columns used to split data, no longer needed \n",
    "team_data = team_data.drop(['away_HoA', \"home_HoA\"], axis=1)\n",
    "\n",
    "print(team_data.head())\n",
    "print(team_data.shape)"
   ]
  },
  {
   "cell_type": "markdown",
   "metadata": {},
   "source": [
    "I noticed that there are both \"Standard\" timezones and \"Daylight\" timezones in the data, which I feel, adds unnecessary complexity to the data. \n",
    "To remove this, I will use a regular expression to search for all daylight savings timezones and remap them to their \"Standard\" times. "
   ]
  },
  {
   "cell_type": "code",
   "execution_count": 4,
   "metadata": {},
   "outputs": [
    {
     "name": "stdout",
     "output_type": "stream",
     "text": [
      "Duplicated entries: 2570\n",
      "\n"
     ]
    },
    {
     "data": {
      "text/plain": [
       "Text(0.5, 0, 'Timezone Offset')"
      ]
     },
     "execution_count": 4,
     "metadata": {},
     "output_type": "execute_result"
    },
    {
     "data": {
      "image/png": "[encoded data removed]",
      "text/plain": [
       "<Figure size 432x288 with 1 Axes>"
      ]
     },
     "metadata": {
      "needs_background": "light"
     },
     "output_type": "display_data"
    }
   ],
   "source": [
    "# Remove duplicated entries from the 2nd dataset\n",
    "print(\"Duplicated entries: {}\\n\".format(sum(game_data.index.duplicated())))\n",
    "game_data = game_data[~game_data.index.duplicated()]\n",
    "\n",
    "# Readjust the timezones (exclude daylight savings)\n",
    "def timezone_change(tz):\n",
    "    res = re.search(\"[A-Z]DT\", tz) \n",
    "    if res != None:\n",
    "        return 1\n",
    "    else:\n",
    "        return 0 \n",
    "\n",
    "# Find the offset of the daylight savings timezones\n",
    "offset = game_data.venue_time_zone_tz.apply(timezone_change)\n",
    "\n",
    "# Adjust the timezones \n",
    "game_data.venue_time_zone_offset = (game_data.venue_time_zone_offset - offset)\n",
    "\n",
    "# Plot the finalized timezones \n",
    "plt.hist(game_data.venue_time_zone_offset)\n",
    "plt.xlabel(\"Timezone Offset\")"
   ]
  },
  {
   "cell_type": "markdown",
   "metadata": {},
   "source": [
    "Here, I perform feature engineering to add two new variables to the data. One is the time of the game (specifically the hour on a 24hr clock), and the second is the difference in timezone between the visiting team and that of the venue. "
   ]
  },
  {
   "cell_type": "code",
   "execution_count": 5,
   "metadata": {
    "papermill": {
     "duration": 0.081861,
     "end_time": "2021-03-06T06:44:19.018355",
     "exception": false,
     "start_time": "2021-03-06T06:44:18.936494",
     "status": "completed"
    },
    "tags": []
   },
   "outputs": [
    {
     "name": "stdout",
     "output_type": "stream",
     "text": [
      "5\n"
     ]
    },
    {
     "data": {
      "text/plain": [
       "Text(0.5, 0, 'Away Timezone Difference')"
      ]
     },
     "execution_count": 5,
     "metadata": {},
     "output_type": "execute_result"
    },
    {
     "data": {
      "image/png": "[encoded data removed]",
      "text/plain": [
       "<Figure size 432x288 with 1 Axes>"
      ]
     },
     "metadata": {
      "needs_background": "light"
     },
     "output_type": "display_data"
    },
    {
     "data": {
      "image/png": "[encoded data removed]",
      "text/plain": [
       "<Figure size 432x288 with 1 Axes>"
      ]
     },
     "metadata": {
      "needs_background": "light"
     },
     "output_type": "display_data"
    }
   ],
   "source": [
    "# NEW FEATURE : \"game_time\"\n",
    "res = game_data.date_time_GMT.apply(lambda x: int(re.search(\"T(\\d+):\", x).group(1)))\n",
    "\n",
    "game_data['game_time'] = (res + game_data.venue_time_zone_offset) % 24\n",
    "plt.figure()\n",
    "plt.hist(game_data['game_time'])  \n",
    "plt.xlabel(\"Time of Game (24 hr)\")\n",
    "\n",
    "# Timezone mappings for all team IDs\n",
    "timezones = {1:5, 4:5, 26:8, 14:5, 6:5, 3:5, 5:5, 17:5, 28:8, 18:6, 23:8, 16:6, 9:5, \n",
    "             8:5, 30:6, 15:5, 19:6, 24:8, 27:7, 2:5, 10:5,13:5, 7:5, 20:7, 21:7, 25:6, 29:5, 52:6, 22:7, 54:8, 12:5, 53:7, 11:5}\n",
    "\n",
    "# These teams are not registered in the data set; remove them \n",
    "mask = game_data.away_team_id.isin([88, 87, 90])\n",
    "print(sum(mask))\n",
    "game_data = game_data.drop(game_data[mask].index)\n",
    "\n",
    "# NEW FEATURE : \"away_timezone\" and \"away_timechange\" \n",
    "# \"away_timechange\" : the difference between the away team's timezone and that of the venue\n",
    "game_data['away_timezone']  = -game_data.away_team_id.apply(lambda x: timezones[x])\n",
    "game_data['away_timechange'] = np.abs(game_data.away_timezone - game_data.venue_time_zone_offset)\n",
    "\n",
    "plt.figure()\n",
    "plt.hist(game_data['away_timechange'])\n",
    "plt.xlabel(\"Away Timezone Difference\")"
   ]
  },
  {
   "cell_type": "code",
   "execution_count": 6,
   "metadata": {
    "papermill": {
     "duration": 0.07799,
     "end_time": "2021-03-06T06:44:19.107739",
     "exception": false,
     "start_time": "2021-03-06T06:44:19.029749",
     "status": "completed"
    },
    "tags": []
   },
   "outputs": [
    {
     "name": "stdout",
     "output_type": "stream",
     "text": [
      "Final Dataset Dimensions: (23730, 17)\n",
      "\n"
     ]
    }
   ],
   "source": [
    "toAdd = game_data[['season','type','game_time','away_timezone','away_timechange','venue_time_zone_offset']]\n",
    "toAdd2 = toAdd.loc[team_data.index,:]\n",
    "\n",
    "data = pd.concat([team_data, toAdd2], axis=1)\n",
    "print(f\"Final Dataset Dimensions: {game_data.shape}\\n\")"
   ]
  },
  {
   "cell_type": "markdown",
   "metadata": {},
   "source": [
    "Here, I am considering dropping the `season` feature from the data, but I will do a quick visualization to if there are any trends. "
   ]
  },
  {
   "cell_type": "code",
   "execution_count": 7,
   "metadata": {
    "papermill": {
     "duration": 0.029693,
     "end_time": "2021-03-06T06:44:19.461453",
     "exception": false,
     "start_time": "2021-03-06T06:44:19.431760",
     "status": "completed"
    },
    "tags": []
   },
   "outputs": [
    {
     "data": {
      "text/plain": [
       "Text(0, 0.5, 'Number of away-wins / Total Games')"
      ]
     },
     "execution_count": 7,
     "metadata": {},
     "output_type": "execute_result"
    },
    {
     "data": {
      "image/png": "[encoded data removed]",
      "text/plain": [
       "<Figure size 432x288 with 1 Axes>"
      ]
     },
     "metadata": {
      "needs_background": "light"
     },
     "output_type": "display_data"
    }
   ],
   "source": [
    "# calculate proportion of visiting team wins per season\n",
    "res = data.groupby('season').sum()['away_won'] / data.groupby('season').size()\n",
    "\n",
    "plot = sns.barplot(x=res.index, y=res, data=data)\n",
    "plot = plot.set_xticklabels(labels=res.index,rotation=70)\n",
    "plt.ylabel(\"Number of away-wins / Total Games\")"
   ]
  },
  {
   "cell_type": "markdown",
   "metadata": {},
   "source": [
    "Interestingly, there seems to be some differences in the proportion of games won by visiting teams between different hockey seasons. The lower values in the earlier seasons may prove helpful to the model, so I am going to leave this feature in. "
   ]
  },
  {
   "cell_type": "code",
   "execution_count": 8,
   "metadata": {},
   "outputs": [
    {
     "name": "stdout",
     "output_type": "stream",
     "text": [
      "['away_settled_in', 'type', 'season', 'away_timezone', 'venue_time_zone_offset', 'game_time']\n",
      "['away_shots', 'away_hits', 'away_pim', 'away_powerPlayOpportunities', 'away_faceOffWinPercentage', 'away_giveaways', 'away_takeaways', 'away_blocked', 'home_shots', 'home_hits', 'home_pim', 'home_powerPlayOpportunities', 'home_giveaways', 'home_takeaways', 'home_blocked', 'away_timechange']\n"
     ]
    }
   ],
   "source": [
    "# Collect categorical variables \n",
    "categorical = [name for name in data.columns if data[name].dtype == 'object']\n",
    "categorical = categorical + [\"season\", \"away_timezone\", \"venue_time_zone_offset\", \"game_time\"]\n",
    "\n",
    "# Collect numeric variables \n",
    "numeric = [column for column in data.columns if column not in categorical]\n",
    "numeric.remove(\"away_won\")\n",
    "print(categorical)\n",
    "print(numeric)\n",
    "\n",
    "# Set up core pipeline for preprocessing\n",
    "categorical_transform = Pipeline(steps=[\n",
    "    ('onehot', OneHotEncoder(handle_unknown = \"ignore\"))])\n",
    "\n",
    "num_transform = Pipeline(steps=[\n",
    "    ('scaler', StandardScaler())])\n",
    "\n",
    "preprocess = ColumnTransformer(\n",
    "    transformers=[\n",
    "        ('num', num_transform, numeric),\n",
    "        ('cat', categorical_transform, categorical)])"
   ]
  },
  {
   "cell_type": "markdown",
   "metadata": {
    "papermill": {
     "duration": 0.012574,
     "end_time": "2021-03-06T06:44:19.486912",
     "exception": false,
     "start_time": "2021-03-06T06:44:19.474338",
     "status": "completed"
    },
    "tags": []
   },
   "source": [
    "Here, I split the data into the appropriate train and test sets. "
   ]
  },
  {
   "cell_type": "code",
   "execution_count": 9,
   "metadata": {
    "papermill": {
     "duration": 0.032578,
     "end_time": "2021-03-06T06:44:19.532331",
     "exception": false,
     "start_time": "2021-03-06T06:44:19.499753",
     "status": "completed"
    },
    "tags": []
   },
   "outputs": [],
   "source": [
    "label = LabelEncoder()\n",
    "y = pd.Series(label.fit_transform(data.away_won))\n",
    "X = data.iloc[:,1:]\n",
    "y.index = X.index\n",
    "#X_try = preprocess.fit_transform(X)\n",
    "\n",
    "X_train, X_test, y_train, y_test = train_test_split(X, y, test_size=0.2, random_state=0)\n",
    "\n",
    "def compute_performance(yhat, y, classes):\n",
    "    # First, get tp, tn, fp, fn\n",
    "    tp = sum(np.logical_and(yhat == classes[1], y == classes[1]))\n",
    "    tn = sum(np.logical_and(yhat == classes[0], y == classes[0]))\n",
    "    fp = sum(np.logical_and(yhat == classes[1], y == classes[0]))\n",
    "    fn = sum(np.logical_and(yhat == classes[0], y == classes[1]))\n",
    "\n",
    "    print(f\"tp: {tp} tn: {tn} fp: {fp} fn: {fn}\")\n",
    "    \n",
    "    # Accuracy\n",
    "    acc = (tp + tn) / (tp + tn + fp + fn)\n",
    "    \n",
    "    # Precision\n",
    "    # \"Of the ones I labeled +, how many are actually +?\"\n",
    "    precision = tp / (tp + fp)\n",
    "    \n",
    "    # Recall\n",
    "    # \"Of all the + in the data, how many do I correctly label?\"\n",
    "    recall = tp / (tp + fn)    \n",
    "    \n",
    "    # Sensitivity\n",
    "    # \"Of all the + in the data, how many do I correctly label?\"\n",
    "    sensitivity = recall\n",
    "    \n",
    "    # Specificity\n",
    "    # \"Of all the - in the data, how many do I correctly label?\"\n",
    "    specificity = tn / (fp + tn)\n",
    "    \n",
    "    # Print results\n",
    "    \n",
    "    print(\"Accuracy:\",round(acc,3),\"Recall:\",round(recall,3),\"Precision:\",round(precision,3),\n",
    "          \"Sensitivity:\",round(sensitivity,3),\"Specificity:\",round(specificity,3))\n"
   ]
  },
  {
   "cell_type": "markdown",
   "metadata": {
    "papermill": {
     "duration": 0.013112,
     "end_time": "2021-03-06T06:44:19.558878",
     "exception": false,
     "start_time": "2021-03-06T06:44:19.545766",
     "status": "completed"
    },
    "tags": []
   },
   "source": [
    "# Logistic Regression\n",
    "\n",
    "I'll start by modelling using a standard logistic regression model. Here, I create a pipeline and evaluate the model performance using cross-validation. I further examine the model performance by examining scores associated with the confusion matrix (using `compute_performance`)."
   ]
  },
  {
   "cell_type": "code",
   "execution_count": 10,
   "metadata": {
    "papermill": {
     "duration": 0.801753,
     "end_time": "2021-03-06T06:44:20.373883",
     "exception": false,
     "start_time": "2021-03-06T06:44:19.572130",
     "status": "completed"
    },
    "tags": []
   },
   "outputs": [
    {
     "name": "stdout",
     "output_type": "stream",
     "text": [
      "Mean CV AUROC Score: 0.717701603684747\n",
      "tp: 1018 tn: 1694 fp: 570 fn: 806\n",
      "Accuracy: 0.663 Recall: 0.558 Precision: 0.641 Sensitivity: 0.558 Specificity: 0.748\n"
     ]
    }
   ],
   "source": [
    "log_model = Pipeline([\n",
    "    ('preprocess',preprocess),\n",
    "    ('log',LogisticRegression( max_iter=10000))\n",
    "])\n",
    "\n",
    "cv_score = cross_val_score(log_model, X_train, y_train, cv=8, scoring='roc_auc')\n",
    "\n",
    "print(f\"Mean CV AUROC Score: {cv_score.mean()}\")\n",
    "\n",
    "log_model.fit(X_train, y_train)\n",
    "\n",
    "\n",
    "y_test_pred = log_model.predict(X_test)\n",
    "y_test_prob = log_model.predict_proba(X_test)\n",
    "\n",
    "compute_performance(y_test_pred, y_test, log_model.classes_)\n"
   ]
  },
  {
   "cell_type": "markdown",
   "metadata": {},
   "source": [
    "### Polynomial with L1 Penalty"
   ]
  },
  {
   "cell_type": "markdown",
   "metadata": {},
   "source": [
    "Just out of curiosity, I want to see whether there are potentially non-linear relationships between features and outcomes. Here, I will experiment by adding a 2nd order polynomial transformation of the numeric features. I will also change the penalization of the model from `None` to the \"LASSO\" or L1 penalty. This is because I now have a lot of newly added features from the polynomial expansion and want to perform some implicit feature selection (setting coefficients to 0). "
   ]
  },
  {
   "cell_type": "code",
   "execution_count": 11,
   "metadata": {},
   "outputs": [
    {
     "name": "stdout",
     "output_type": "stream",
     "text": [
      "Mean CV AUROC Score: 0.7186483861219637\n",
      "tp: 1018 tn: 1694 fp: 570 fn: 806\n",
      "Accuracy: 0.663 Recall: 0.558 Precision: 0.641 Sensitivity: 0.558 Specificity: 0.748\n"
     ]
    }
   ],
   "source": [
    "poly_transform = Pipeline(steps=[\n",
    "    ('scaler', StandardScaler()),\n",
    "    ('poly', PolynomialFeatures(2, include_bias=False)),\n",
    "    ('scaler2', StandardScaler())])\n",
    "\n",
    "poly_preprocess = ColumnTransformer(\n",
    "    transformers=[\n",
    "        ('num', poly_transform, numeric),\n",
    "        ('cat', categorical_transform, categorical)])\n",
    "\n",
    "poly_log_model = Pipeline([\n",
    "    ('preprocess',poly_preprocess),\n",
    "    ('log',LogisticRegression(solver='saga',penalty='l1', max_iter=10000, n_jobs=8))\n",
    "])\n",
    "\n",
    "\n",
    "cv_score = cross_val_score(poly_log_model, X_train, y_train, cv=8, scoring='roc_auc', n_jobs=8)\n",
    "print(f\"Mean CV AUROC Score: {cv_score.mean()}\")\n",
    "\n",
    "poly_log_model.fit(X_train, y_train)\n",
    "log_model.fit(X_train, y_train)\n",
    "\n",
    "# Evaluate model performance on the test data\n",
    "y_test_pred = log_model.predict(X_test)\n",
    "y_test_prob = log_model.predict_proba(X_test)\n",
    "\n",
    "compute_performance(y_test_pred, y_test, log_model.classes_)\n"
   ]
  },
  {
   "cell_type": "markdown",
   "metadata": {},
   "source": [
    "There was a very small improvement in AUROC score, but no tangible improvement in model performance. Moving forward, I will continue with the base model without the polynomials transformation (though I will still be testing it off script). \n"
   ]
  },
  {
   "cell_type": "markdown",
   "metadata": {},
   "source": [
    "# Random Forest\n",
    "\n",
    "I want to gain more experience using random forest models, so I'll choose to fit one here. I want to see whether this offers any notable improvement over the standard logistic regression. To create the model, I will use my original preprocessor without polynomial transformations and tune the number of trees parameter before fitting. "
   ]
  },
  {
   "cell_type": "code",
   "execution_count": 12,
   "metadata": {},
   "outputs": [
    {
     "name": "stdout",
     "output_type": "stream",
     "text": [
      "50.0\n",
      "75.0\n",
      "100.0\n",
      "125.0\n",
      "150.0\n",
      "175.0\n",
      "200.0\n",
      "225.0\n",
      "250.0\n",
      "275.0\n",
      "300.0\n",
      "325.0\n",
      "350.0\n",
      "375.0\n",
      "400.0\n",
      "425.0\n",
      "450.0\n",
      "475.0\n",
      "500.0\n",
      "525.0\n",
      "550.0\n",
      "[0.3789454367506728, 0.36817959383410814, 0.3636530462441889, 0.36047222901884024, 0.35453878150232443, 0.3525813555174945, 0.35074626865671643, 0.35184732077318326, 0.3544164423782725, 0.35245901639344257, 0.3502569121605089, 0.3487276731098605, 0.3498898947883533, 0.34866650354783457, 0.34707609493516023, 0.34517983851235623, 0.3449351602642525, 0.3452410080743822, 0.34530217763640814, 0.3452410080743822, 0.3445681428920969]\n"
     ]
    },
    {
     "data": {
      "text/plain": [
       "[<matplotlib.lines.Line2D at 0x16f8063aac0>]"
      ]
     },
     "execution_count": 12,
     "metadata": {},
     "output_type": "execute_result"
    },
    {
     "data": {
      "image/png": "[encoded data removed]",
      "text/plain": [
       "<Figure size 432x288 with 1 Axes>"
      ]
     },
     "metadata": {
      "needs_background": "light"
     },
     "output_type": "display_data"
    }
   ],
   "source": [
    "numTrees = np.linspace(50,550, num=21)\n",
    "\n",
    "rf_model = Pipeline([\n",
    "    ('preprocess',preprocess),\n",
    "    ('rf', RandomForestClassifier(oob_score=True, \n",
    "                               random_state=0,\n",
    "                               n_jobs=8))\n",
    "])\n",
    "\n",
    "error = []\n",
    "\n",
    "for i in range(len(numTrees)):\n",
    "  print(numTrees[i])\n",
    "  rf_model.named_steps['rf'].set_params(n_estimators=int(numTrees[i]))\n",
    "  rf_model.fit(X_train, y_train)\n",
    "  oob_error = 1 - rf_model.named_steps['rf'].oob_score_\n",
    "  error.append( oob_error)\n",
    "\n",
    "print(error)\n",
    "plt.plot(numTrees, error)\n",
    "plt.ylabel(\"Out-of-bag Error\")\n",
    "plt.xlabel(\"Number of Trees\")\n"
   ]
  },
  {
   "cell_type": "markdown",
   "metadata": {},
   "source": [
    "Based on the tuning above, it appears that 450 trees would be an appropriate choice for `n_estimators` given that no significant decreases in the out-of-bag error can be detected beyond this point. However, I also want to try a more involved approach using `GridSearchCV`. Using grid search will allow me to tune the `max_depth` parameter in addition to the `n_estimators`. Below, I will use 8-fold cross-validation on a smaller dataset to tune these parameters. "
   ]
  },
  {
   "cell_type": "code",
   "execution_count": 13,
   "metadata": {},
   "outputs": [
    {
     "name": "stdout",
     "output_type": "stream",
     "text": [
      "Fitting 5 folds for each of 25 candidates, totalling 125 fits\n"
     ]
    },
    {
     "data": {
      "text/plain": [
       "{'rf__max_depth': 20, 'rf__n_estimators': 1000}"
      ]
     },
     "execution_count": 13,
     "metadata": {},
     "output_type": "execute_result"
    }
   ],
   "source": [
    "rf_model = Pipeline([\n",
    "    ('preprocess',preprocess),\n",
    "    ('rf', RandomForestClassifier(oob_score=True, \n",
    "                               random_state=0,\n",
    "                               n_jobs=8))\n",
    "])\n",
    "\n",
    "params = dict({'rf__max_depth': [5, 10, 20, 30, 50],\n",
    "         'rf__n_estimators':[100, 200, 500, 800, 1000 ]})\n",
    "\n",
    "# Create a smaller sample size to tune parameters on \n",
    "X_tune = X_train.sample(frac=0.5)\n",
    "y_tune = y_train[X_tune.index]\n",
    "\n",
    "grid_rf = GridSearchCV(rf_model, \n",
    "                      param_grid=params, \n",
    "                      cv = 5,\n",
    "                      scoring = 'roc_auc',\n",
    "                      n_jobs=8,\n",
    "                      refit = False,\n",
    "                      verbose=1)\n",
    "grid_rf.fit(X_tune, y_tune)\n",
    "\n",
    "grid_rf.best_params_"
   ]
  },
  {
   "cell_type": "markdown",
   "metadata": {},
   "source": [
    "I now have my tuned parameters for the `max_depth` and `n_estimators` to use in a finalized random forest classifier model. Here, I'll fit that model to the training data and evaluate my performance on the testing dataset. "
   ]
  },
  {
   "cell_type": "code",
   "execution_count": 14,
   "metadata": {},
   "outputs": [
    {
     "name": "stdout",
     "output_type": "stream",
     "text": [
      "RF AUROC Score : 0.7283910347312628\n"
     ]
    }
   ],
   "source": [
    "rf_final = Pipeline([\n",
    "    ('preprocess',preprocess),\n",
    "    ('rf', RandomForestClassifier(oob_score=True,\n",
    "                                  n_estimators=800,\n",
    "                                  max_depth=20,\n",
    "                               random_state=0,\n",
    "                               n_jobs=8))\n",
    "])\n",
    "\n",
    "rf_final.fit(X_train, y_train)\n",
    "\n",
    "# Evaluate model performance on the test data\n",
    "y_rf_pred = rf_final.predict(X_test)\n",
    "y_rf_pred_prob = rf_final.predict_proba(X_test)\n",
    "\n",
    "print(f\"RF AUROC Score : {roc_auc_score(y_test, y_rf_pred_prob[:,1])}\")"
   ]
  },
  {
   "cell_type": "markdown",
   "metadata": {},
   "source": [
    "# Gradient Boosting (XGBoost)"
   ]
  },
  {
   "cell_type": "markdown",
   "metadata": {},
   "source": [
    "Next, I want to test whether a gradient boosted decision tree model might outperform this random forest classifier. To approach this, I will create a dictionary of parameter values that I want to tune. Here, I am including the `learning_rate` as a new tunable parameter, in addition to the original `max_depth` and `n_estimators` used previously in the random forest. "
   ]
  },
  {
   "cell_type": "code",
   "execution_count": 15,
   "metadata": {},
   "outputs": [
    {
     "name": "stdout",
     "output_type": "stream",
     "text": [
      "{'xg__learning_rate': [0.001, 0.01, 0.1, 0.2], 'xg__max_depth': [2, 3, 4], 'xg__n_estimators': [100, 200, 300, 400, 500]}\n",
      "Fitting 5 folds for each of 60 candidates, totalling 300 fits\n"
     ]
    },
    {
     "data": {
      "text/plain": [
       "{'xg__learning_rate': 0.1, 'xg__max_depth': 3, 'xg__n_estimators': 200}"
      ]
     },
     "execution_count": 15,
     "metadata": {},
     "output_type": "execute_result"
    }
   ],
   "source": [
    "xg_model = Pipeline([\n",
    "    ('preprocess',preprocess),\n",
    "    ('xg', XGBClassifier(n_jobs=8, objective='binary:logistic', random_state=0 ,gamma=0.1))\n",
    "])\n",
    "\n",
    "\n",
    "params = dict({'xg__learning_rate': [0.001, 0.01, 0.1,0.2],\n",
    "         'xg__max_depth': [2, 3, 4],\n",
    "         'xg__n_estimators':[100, 200,300, 400, 500 ]})\n",
    "print(params)\n",
    "\n",
    "# Create a smaller sample size to tune parameters on \n",
    "X_tune = X_train.sample(frac=0.5)\n",
    "y_tune = y_train[X_tune.index]\n",
    "\n",
    "grid_xg = GridSearchCV(xg_model, \n",
    "                      param_grid=params, \n",
    "                      cv = 5,\n",
    "                      scoring = 'roc_auc',\n",
    "                      n_jobs=8,\n",
    "                      refit = False,\n",
    "                      verbose=1)\n",
    "grid_xg.fit(X_tune, y_tune)\n",
    "\n",
    "grid_xg.best_params_"
   ]
  },
  {
   "cell_type": "markdown",
   "metadata": {},
   "source": [
    "Using the tuned parameter values above, I will fit my finalized XGBoost classifier model to the training data and evaluate its performance on the testing dataset. "
   ]
  },
  {
   "cell_type": "code",
   "execution_count": 16,
   "metadata": {
    "papermill": {
     "duration": 0.033418,
     "end_time": "2021-03-06T06:44:20.451103",
     "exception": false,
     "start_time": "2021-03-06T06:44:20.417685",
     "status": "completed"
    },
    "tags": []
   },
   "outputs": [
    {
     "name": "stderr",
     "output_type": "stream",
     "text": [
      "c:\\users\\john\\appdata\\local\\programs\\python\\python39\\lib\\site-packages\\xgboost\\sklearn.py:888: UserWarning: The use of label encoder in XGBClassifier is deprecated and will be removed in a future release. To remove this warning, do the following: 1) Pass option use_label_encoder=False when constructing XGBClassifier object; and 2) Encode your labels (y) as integers starting with 0, i.e. 0, 1, 2, ..., [num_class - 1].\n",
      "  warnings.warn(label_encoder_deprecation_msg, UserWarning)\n"
     ]
    },
    {
     "name": "stdout",
     "output_type": "stream",
     "text": [
      "XG AUROC Score : 0.7212316347405616\n"
     ]
    }
   ],
   "source": [
    "xg_final = Pipeline([\n",
    "    ('preprocess',preprocess),\n",
    "    ('xg', XGBClassifier(learning_rate=0.1,objective='binary:logistic', max_depth=3, n_estimators = 500, n_jobs=8, random_state=0 ,gamma=0.1, verbosity=0))\n",
    "])\n",
    "\n",
    "xg_final.fit(X_train, y_train)\n",
    "\n",
    "y_xg_pred = xg_final.predict(X_test)\n",
    "y_xg_pred_prob = xg_final.predict_proba(X_test)\n",
    "\n",
    "print(f\"XG AUROC Score : {roc_auc_score(y_test, y_xg_pred_prob[:,1])}\")"
   ]
  },
  {
   "cell_type": "markdown",
   "metadata": {},
   "source": [
    "This score was subject to some variability, but did not reach higher than 0.72. The random forest classifier appeared to perform better given its higher AUROC score, so I will focus on it for the remaining investigation. "
   ]
  },
  {
   "cell_type": "markdown",
   "metadata": {},
   "source": [
    "# Final Model\n",
    "\n",
    "I have chosen to further investigate my finalized random forest model, since it has the highest AUROC score of 0.73.\n",
    "\n",
    "### Feature Importance\n",
    "\n",
    "First, I want to see which features are contributing to the model the most. With random forests, this is quite straightforward using the `feature_importances_` attribute. "
   ]
  },
  {
   "cell_type": "code",
   "execution_count": 17,
   "metadata": {},
   "outputs": [
    {
     "data": {
      "text/plain": [
       "<AxesSubplot:title={'center':'Variable Importance - XGBoosted Model'}>"
      ]
     },
     "execution_count": 17,
     "metadata": {},
     "output_type": "execute_result"
    },
    {
     "data": {
      "image/png": "[encoded data removed]",
      "text/plain": [
       "<Figure size 432x576 with 1 Axes>"
      ]
     },
     "metadata": {
      "needs_background": "light"
     },
     "output_type": "display_data"
    }
   ],
   "source": [
    "# Variable importance\n",
    "importances = rf_final.named_steps['rf'].feature_importances_\n",
    "indices = np.argsort(importances)[::-1]\n",
    "\n",
    "# PLOTTING \n",
    "f,ax = plt.subplots(figsize=(6,8))\n",
    "plt.title(\"Variable Importance - XGBoosted Model\")\n",
    "sns.barplot(y=[X_train.columns[i] for i in indices[0:8]] , x=importances[indices[0:8]])"
   ]
  },
  {
   "cell_type": "markdown",
   "metadata": {
    "papermill": {
     "duration": 0.015322,
     "end_time": "2021-03-06T06:44:20.685899",
     "exception": false,
     "start_time": "2021-03-06T06:44:20.670577",
     "status": "completed"
    },
    "tags": []
   },
   "source": [
    "Here, we can see the importance scores of the different features. Rather interesting to see that the number of takeaways by both the home and away team appear to contribute the most to predicting a win or loss. That could perhaps be a loose indication of how aggressively one team is chasing the other for the puck.\n",
    "\n",
    "The number of shots by both teams is a rather expected result. It seems reasonable that a team that gets more shots on net in a game is more likely to win.  \n",
    "\n",
    "Of the remaining features, `settled_in` was particularly interesting to see here. This indicates that a visiting team might be slightly more or less likely to win if the game proceeds into overtime. However, the importance of this feature is relatively low, so it is unreasonable to say anything conclusive here. "
   ]
  },
  {
   "cell_type": "markdown",
   "metadata": {},
   "source": [
    "### ROC Curve"
   ]
  },
  {
   "cell_type": "code",
   "execution_count": 18,
   "metadata": {
    "papermill": {
     "duration": 0.041091,
     "end_time": "2021-03-06T06:44:20.742474",
     "exception": false,
     "start_time": "2021-03-06T06:44:20.701383",
     "status": "completed"
    },
    "tags": []
   },
   "outputs": [
    {
     "name": "stdout",
     "output_type": "stream",
     "text": [
      "AUROC: 0.7283910347312628\n"
     ]
    },
    {
     "data": {
      "image/png": "[encoded data removed]",
      "text/plain": [
       "<Figure size 432x288 with 1 Axes>"
      ]
     },
     "metadata": {
      "needs_background": "light"
     },
     "output_type": "display_data"
    }
   ],
   "source": [
    "fpr, tpr, _ = roc_curve(y_test, y_rf_pred_prob[:,1])\n",
    "\n",
    "ax=sns.lineplot(x=fpr,y=tpr)\n",
    "ax.set_xlabel(\"False Positive Rate\")\n",
    "ax.set_ylabel(\"True Positive Rate\")\n",
    "\n",
    "print(f\"AUROC: {auc(fpr, tpr)}\")"
   ]
  },
  {
   "cell_type": "markdown",
   "metadata": {
    "papermill": {
     "duration": 0.016261,
     "end_time": "2021-03-06T06:44:20.775193",
     "exception": false,
     "start_time": "2021-03-06T06:44:20.758932",
     "status": "completed"
    },
    "tags": []
   },
   "source": [
    "The AUROC score for the best model is not fantastic, however, I am not surprised by this as hockey is known to have a reasonable level of \"chance\". Generally, models seems to have difficulty delivering reliable predictions of hockey outcomes. That being said, this model still provides a reasonable improvement over the baseline accuracy of 0.48 that might be achieved with random guessing. "
   ]
  },
  {
   "cell_type": "markdown",
   "metadata": {
    "papermill": {
     "duration": 0.015418,
     "end_time": "2021-03-06T06:44:20.806712",
     "exception": false,
     "start_time": "2021-03-06T06:44:20.791294",
     "status": "completed"
    },
    "tags": []
   },
   "source": [
    "# Conclusions\n",
    "\n",
    "- In this notebook, I implement XGBoost using Python and Scikit-Learn to predict whether a visiting hockey team will win a game \n",
    "- I trained two logistic regression models, one with the standard features and another with a polynomial transformation of them\n",
    "- I trained a random forest model by tuning two parameters using standard iteration and using GridSearchCV\n",
    "- I trained a gradient boosted decision tree model by tuning three parameters using GridSearchCV\n",
    "- The random forest model performed best, yielding an AUC of about 0.73\n",
    "- Given that hockey is a relatively hard sport to predict outcomes in, my model's performance seems adequate and acceptable"
   ]
  }
 ],
 "metadata": {
  "kernelspec": {
   "display_name": "Python 3",
   "language": "python",
   "name": "python3"
  },
  "language_info": {
   "codemirror_mode": {
    "name": "ipython",
    "version": 3
   },
   "file_extension": ".py",
   "mimetype": "text/x-python",
   "name": "python",
   "nbconvert_exporter": "python",
   "pygments_lexer": "ipython3",
   "version": "3.9.1"
  },
  "papermill": {
   "duration": 7.344301,
   "end_time": "2021-03-06T06:44:20.930365",
   "environment_variables": {},
   "exception": null,
   "input_path": "__notebook__.ipynb",
   "output_path": "__notebook__.ipynb",
   "parameters": {},
   "start_time": "2021-03-06T06:44:13.586064",
   "version": "2.1.0"
  }
 },
 "nbformat": 4,
 "nbformat_minor": 4
}
